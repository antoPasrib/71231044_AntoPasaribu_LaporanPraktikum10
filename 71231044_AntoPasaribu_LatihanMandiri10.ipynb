{
 "cells": [
  {
   "cell_type": "code",
   "execution_count": 1,
   "id": "0e4962ef",
   "metadata": {},
   "outputs": [
    {
     "name": "stdout",
     "output_type": "stream",
     "text": [
      "Tiga bilangan terbaik: [30, 25, 20]\n"
     ]
    }
   ],
   "source": [
    "def tiga_bilangan_terbaik(data):\n",
    "    data_unik = list(set(data))\n",
    "    \n",
    "    data_unik.sort(reverse=True)\n",
    "    \n",
    "    if len(data_unik) < 3:\n",
    "        print(\"List harus memiliki minimal tiga angka unik.\")\n",
    "        return data_unik\n",
    "    \n",
    "    return data_unik[:3]  \n",
    "\n",
    "angka = [10, 5, 8, 20, 20, 4, 25, 30, 15]\n",
    "hasil = tiga_bilangan_terbaik(angka)\n",
    "print(\"Tiga bilangan terbaik:\", hasil)"
   ]
  },
  {
   "cell_type": "code",
   "execution_count": 3,
   "id": "e9d63ec3",
   "metadata": {},
   "outputs": [
    {
     "name": "stdout",
     "output_type": "stream",
     "text": [
      "Masukkan angka satu per satu. Ketik 'done' jika selesai.\n",
      "Masukkan angka: 25\n",
      "Masukkan angka: 13\n",
      "Masukkan angka: 45\n",
      "Masukkan angka: 36\n",
      "Masukkan angka: 74\n",
      "Masukkan angka: 89\n",
      "Masukkan angka: done\n",
      "Rata-rata dari angka yang dimasukkan adalah: 47.00\n"
     ]
    }
   ],
   "source": [
    "angka_list = []\n",
    "\n",
    "print(\"Masukkan angka satu per satu. Ketik 'done' jika selesai.\")\n",
    "\n",
    "while True:\n",
    "    user_input = input(\"Masukkan angka: \")\n",
    "    \n",
    "    if user_input.lower() == \"done\":\n",
    "        break  \n",
    "    \n",
    "    angka_list.append(float(user_input)) \n",
    "\n",
    "if angka_list:\n",
    "    rata_rata = sum(angka_list) / len(angka_list)\n",
    "    print(f\"Rata-rata dari angka yang dimasukkan adalah: {rata_rata:.2f}\")\n",
    "else:\n",
    "    print(\"Anda belum memasukkan angka apa pun.\")"
   ]
  },
  {
   "cell_type": "code",
   "execution_count": 4,
   "id": "f87ca623",
   "metadata": {},
   "outputs": [
    {
     "name": "stdout",
     "output_type": "stream",
     "text": [
      "Masukkan path file teks: artikel.txt\n",
      "\n",
      "Kata-kata unik dalam artikel:\n",
      "adalah\n",
      "bahasa\n",
      "banyak\n",
      "berbeda\n",
      "budaya\n",
      "dan\n",
      "dari\n",
      "indonesia\n",
      "ini\n",
      "kepulauan\n",
      "memiliki\n",
      "merauke\n",
      "negara\n",
      "sabang\n",
      "sampai\n",
      "tersebar\n",
      "yang\n"
     ]
    }
   ],
   "source": [
    "def tampilkan_kata_unik(nama_file):\n",
    "    try:\n",
    "        with open(nama_file, 'r', encoding='utf-8') as file:\n",
    "            isi = file.read()\n",
    "\n",
    "        import re\n",
    "        isi_bersih = re.sub(r'[^\\w\\s]', '', isi.lower())\n",
    "\n",
    "        kata_kata = isi_bersih.split()\n",
    "\n",
    "        kata_unik = set(kata_kata)\n",
    "\n",
    "        print(\"\\nKata-kata unik dalam artikel:\")\n",
    "        for kata in sorted(kata_unik):\n",
    "            print(kata)\n",
    "\n",
    "    except FileNotFoundError:\n",
    "        print(f\"File '{nama_file}' tidak ditemukan.\")\n",
    "\n",
    "if __name__ == \"__main__\":\n",
    "    path_file = input(\"Masukkan path file teks: \")\n",
    "    tampilkan_kata_unik(path_file)\n"
   ]
  },
  {
   "cell_type": "code",
   "execution_count": null,
   "id": "3d67f680",
   "metadata": {},
   "outputs": [],
   "source": []
  }
 ],
 "metadata": {
  "kernelspec": {
   "display_name": "Python 3 (ipykernel)",
   "language": "python",
   "name": "python3"
  },
  "language_info": {
   "codemirror_mode": {
    "name": "ipython",
    "version": 3
   },
   "file_extension": ".py",
   "mimetype": "text/x-python",
   "name": "python",
   "nbconvert_exporter": "python",
   "pygments_lexer": "ipython3",
   "version": "3.11.5"
  }
 },
 "nbformat": 4,
 "nbformat_minor": 5
}
